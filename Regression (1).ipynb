{
 "cells": [
  {
   "cell_type": "raw",
   "id": "7875c5de-7324-4421-8dc9-b136e110ff69",
   "metadata": {},
   "source": [
    "Linear regression is one of the easiest and most popular Machine Learning algorithms. \n",
    "It is a statistical method that is used for predictive analysis. \n",
    "Linear regression makes predictions for continuous/real or numeric variables such as sales, salary, age, product price, etc."
   ]
  },
  {
   "cell_type": "raw",
   "id": "3dcbcac2-3610-4945-b247-c49a6f133330",
   "metadata": {},
   "source": [
    "Types of Linear Regression:\n",
    "-------------------------------\n",
    "Linear regression can be further divided into two types of the algorithm:\n",
    "\n",
    "1]Simple Linear Regression:\n",
    "==============================\n",
    "If a single independent variable is used to predict the value of a numerical dependent variable, \n",
    "then such a Linear Regression algorithm is called Simple Linear Regression.\n",
    "        Y=b0+b1 X\n",
    "where:\n",
    "\n",
    "Y is the dependent variable (target),\n",
    "X is the independent variable (feature),\n",
    "b0 is the intercept, and\n",
    "b1  is the slope (coefficient).\n",
    "\n",
    "2]Multiple Linear regression:\n",
    "==============================\n",
    "If more than one independent variable is used to predict the value of a numerical dependent variable,\n",
    "then such a Linear Regression algorithm is called Multiple Linear Regression.\n",
    "\n",
    "Y=b0+b1.X1+b2.X2+...+bn.Xn\n",
    "​where:\n",
    "\n",
    "Y is the dependent variable,\n",
    "X1,X2,...,Xn are independent variables,\n",
    "b0 is the intercept, and\n",
    "b1,b2,...,bn are the coefficients for each independent variable.\n",
    "\n",
    "3]Polynomial Regression: \n",
    "=================================\n",
    "Captures non-linear relationships by including higher-degree terms of the predictors.\n",
    "\n",
    "Polynomial Regression is an extension of linear regression where the relationship between the independent variable \n",
    "\n",
    "X and dependent variable \n",
    "Y is modeled as an \n",
    "n-degree polynomial. For a 2-degree polynomial, the equation is:\n",
    "Y=b0+b1X+b2X2\n"
   ]
  },
  {
   "cell_type": "code",
   "execution_count": 4,
   "id": "868bb2d9-415b-45b5-be7e-febd6eaf319e",
   "metadata": {},
   "outputs": [
    {
     "data": {
      "text/plain": [
       "array([500000.])"
      ]
     },
     "execution_count": 4,
     "metadata": {},
     "output_type": "execute_result"
    }
   ],
   "source": [
    "#Simple Linear Regression\n",
    "from sklearn.linear_model import LinearRegression\n",
    "import numpy as np\n",
    "\n",
    "# Example dataset\n",
    "size = np.array([1500, 1700, 1800, 2000, 2300]).reshape(-1, 1)  # House sizes (sq ft)\n",
    "price = np.array([300000, 340000, 360000, 400000, 460000])  # Prices in dollars\n",
    "\n",
    "# Create and fit the model\n",
    "model = LinearRegression()\n",
    "model.fit(size, price)\n",
    "\n",
    "# Predict the price for a 2500 sq ft house\n",
    "predicted_price = model.predict(np.array([[2500]]))\n",
    "predicted_price  # Result in dollars\n"
   ]
  },
  {
   "cell_type": "code",
   "execution_count": 5,
   "id": "8674c044-778c-4ad6-8ef0-fc8d084e637f",
   "metadata": {},
   "outputs": [
    {
     "data": {
      "text/plain": [
       "array([500000.])"
      ]
     },
     "execution_count": 5,
     "metadata": {},
     "output_type": "execute_result"
    }
   ],
   "source": [
    "#multiple linear regression\n",
    "from sklearn.linear_model import LinearRegression\n",
    "import numpy as np\n",
    "\n",
    "# Example dataset\n",
    "features = np.array([[1500, 3], [1700, 3], [1800, 4], [2000, 4], [2300, 5]])  # Size and bedrooms\n",
    "price = np.array([300000, 340000, 360000, 400000, 460000])  # Prices in dollars\n",
    "\n",
    "# Create and fit the model\n",
    "model = LinearRegression()\n",
    "model.fit(features, price)\n",
    "\n",
    "# Predict the price for a 2500 sq ft house with 4 bedrooms\n",
    "predicted_price = model.predict(np.array([[2500, 4]]))\n",
    "predicted_price  # Result in dollars\n"
   ]
  },
  {
   "cell_type": "code",
   "execution_count": 6,
   "id": "aaf0e8db-37ab-4af1-83ac-a45fb2240cde",
   "metadata": {},
   "outputs": [
    {
     "data": {
      "text/plain": [
       "array([131000.])"
      ]
     },
     "execution_count": 6,
     "metadata": {},
     "output_type": "execute_result"
    }
   ],
   "source": [
    "#polynomial regression\n",
    "from sklearn.preprocessing import PolynomialFeatures\n",
    "from sklearn.linear_model import LinearRegression\n",
    "import numpy as np\n",
    "\n",
    "# Example dataset\n",
    "experience = np.array([1, 2, 3, 4, 5]).reshape(-1, 1)  # Years of experience\n",
    "profit = np.array([40000, 50000, 65000, 80000, 105000])  # Profit in dollars\n",
    "\n",
    "# Transform the data to include polynomial features\n",
    "poly = PolynomialFeatures(degree=2)  # 2nd degree polynomial\n",
    "experience_poly = poly.fit_transform(experience)\n",
    "\n",
    "# Create and fit the model\n",
    "model = LinearRegression()\n",
    "model.fit(experience_poly, profit)\n",
    "\n",
    "# Predict profit for 6 years of experience\n",
    "predicted_profit = model.predict(poly.transform(np.array([[6]])))\n",
    "predicted_profit  # Result in dollars\n"
   ]
  },
  {
   "cell_type": "raw",
   "id": "ef3cb309-929e-4ed4-854a-ead5fb6be2d3",
   "metadata": {},
   "source": [
    "Evaluation Metrics for Regression:\n",
    "=====================================\n",
    "Mean Absolute Error (MAE): Measures the average absolute difference between predicted and actual values.\n",
    "Mean Squared Error (MSE): Measures the average squared difference between predicted and actual values.\n",
    "R-squared (𝑅2): Indicates the proportion of variance in the dependent variable explained by the independent variables.\n",
    "An R2 close to 1 suggests a good fit."
   ]
  },
  {
   "cell_type": "raw",
   "id": "e8994e92-c659-4da5-bb01-e645f9bf1a5b",
   "metadata": {},
   "source": [
    "Mean Absolute Error (MAE):\n",
    "MAE is the average of the absolute differences between predicted and actual values. It measures the average magnitude of errors in a set of predictions, without considering their direction (positive or negative)."
   ]
  },
  {
   "cell_type": "code",
   "execution_count": 8,
   "id": "7e1090e9-1d71-480c-ad80-9b2433a0ba77",
   "metadata": {},
   "outputs": [
    {
     "data": {
      "text/plain": [
       "7.4"
      ]
     },
     "execution_count": 8,
     "metadata": {},
     "output_type": "execute_result"
    }
   ],
   "source": [
    "from sklearn.metrics import mean_absolute_error\n",
    "\n",
    "# Actual vs. predicted values\n",
    "actual = [150, 200, 250, 300, 350]\n",
    "predicted = [148, 210, 240, 305, 360]\n",
    "\n",
    "# Calculate MAE\n",
    "mae = mean_absolute_error(actual, predicted)\n",
    "mae  # Result: Mean absolute error value\n"
   ]
  },
  {
   "cell_type": "raw",
   "id": "07e50ba1-fa28-4d8b-a315-3c20c45e7f7e",
   "metadata": {},
   "source": [
    "Mean Squared Error (MSE):\n",
    "MSE is the average of the squared differences between predicted and actual values.\n",
    "It gives more weight to larger errors due to the squaring, making it sensitive to outliers."
   ]
  },
  {
   "cell_type": "code",
   "execution_count": 9,
   "id": "71f81f27-c566-43eb-9882-c7771a74167a",
   "metadata": {},
   "outputs": [
    {
     "data": {
      "text/plain": [
       "65.8"
      ]
     },
     "execution_count": 9,
     "metadata": {},
     "output_type": "execute_result"
    }
   ],
   "source": [
    "from sklearn.metrics import mean_squared_error\n",
    "\n",
    "# Actual vs. predicted values\n",
    "actual = [150, 200, 250, 300, 350]\n",
    "predicted = [148, 210, 240, 305, 360]\n",
    "\n",
    "# Calculate MSE\n",
    "mse = mean_squared_error(actual, predicted)\n",
    "mse  # Result: Mean squared error value\n"
   ]
  },
  {
   "cell_type": "raw",
   "id": "d065a214-75bc-477b-9cad-00970b7a0a69",
   "metadata": {},
   "source": [
    "R-squared (R²)\n",
    "R², or the coefficient of determination, measures the proportion of the variance in the dependent variable\n",
    "that is predictable from the independent variables. \n",
    "It provides an understanding of how well the independent variables explain the variability in the dependent variable."
   ]
  },
  {
   "cell_type": "code",
   "execution_count": 10,
   "id": "192d24d6-16f4-4fa4-8570-8a99837dc4ee",
   "metadata": {},
   "outputs": [
    {
     "data": {
      "text/plain": [
       "0.98684"
      ]
     },
     "execution_count": 10,
     "metadata": {},
     "output_type": "execute_result"
    }
   ],
   "source": [
    "from sklearn.metrics import r2_score\n",
    "\n",
    "# Actual vs. predicted values\n",
    "actual = [150, 200, 250, 300, 350]\n",
    "predicted = [148, 210, 240, 305, 360]\n",
    "\n",
    "# Calculate R-squared\n",
    "r_squared = r2_score(actual, predicted)\n",
    "r_squared  # Result: R-squared value\n"
   ]
  },
  {
   "cell_type": "code",
   "execution_count": 7,
   "id": "cde5b4b9-d722-4724-8d08-513561f821b2",
   "metadata": {},
   "outputs": [
    {
     "data": {
      "text/plain": [
       "(7.4, 65.8, 0.98684)"
      ]
     },
     "execution_count": 7,
     "metadata": {},
     "output_type": "execute_result"
    }
   ],
   "source": [
    "from sklearn.metrics import mean_absolute_error, mean_squared_error, r2_score\n",
    "\n",
    "# Actual and predicted values\n",
    "actual = [150, 200, 250, 300, 350]\n",
    "predicted = [148, 210, 240, 305, 360]\n",
    "\n",
    "# Calculate all three metrics\n",
    "mae = mean_absolute_error(actual, predicted)\n",
    "mse = mean_squared_error(actual, predicted)\n",
    "r_squared = r2_score(actual, predicted)\n",
    "\n",
    "# Output results\n",
    "mae, mse, r_squared  # Display MAE, MSE, and R-squared values\n"
   ]
  },
  {
   "cell_type": "code",
   "execution_count": null,
   "id": "2192099b-068f-4e55-8650-10811085028c",
   "metadata": {},
   "outputs": [],
   "source": []
  }
 ],
 "metadata": {
  "kernelspec": {
   "display_name": "Python 3 (ipykernel)",
   "language": "python",
   "name": "python3"
  },
  "language_info": {
   "codemirror_mode": {
    "name": "ipython",
    "version": 3
   },
   "file_extension": ".py",
   "mimetype": "text/x-python",
   "name": "python",
   "nbconvert_exporter": "python",
   "pygments_lexer": "ipython3",
   "version": "3.11.7"
  }
 },
 "nbformat": 4,
 "nbformat_minor": 5
}
